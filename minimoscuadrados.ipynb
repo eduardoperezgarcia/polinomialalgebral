{
  "nbformat": 4,
  "nbformat_minor": 0,
  "metadata": {
    "colab": {
      "name": "minimoscuadrados.ipynb",
      "provenance": [],
      "authorship_tag": "ABX9TyPA2KaHvmMk2HT7E/3OQdnB",
      "include_colab_link": true
    },
    "kernelspec": {
      "name": "python3",
      "display_name": "Python 3"
    }
  },
  "cells": [
    {
      "cell_type": "markdown",
      "metadata": {
        "id": "view-in-github",
        "colab_type": "text"
      },
      "source": [
        "<a href=\"https://colab.research.google.com/github/eduardoperezgarcia/polinomialalgebral/blob/master/minimoscuadrados.ipynb\" target=\"_parent\"><img src=\"https://colab.research.google.com/assets/colab-badge.svg\" alt=\"Open In Colab\"/></a>"
      ]
    },
    {
      "cell_type": "code",
      "metadata": {
        "id": "SVWtJEPtZtHE",
        "colab_type": "code",
        "colab": {}
      },
      "source": [
        "import numpy as np\n",
        "def polyfit2(x,y,n):\n",
        "  def inv(A):\n",
        "    return np.linalg.inv(A)\n",
        "    def trans(A):\n",
        "      return A.getT()\n",
        "      def prod(A,B):\n",
        "        return np.dot(A,B)\n",
        "\n",
        "        xlen = len(x)\n",
        "        ylen = len(y)\n",
        "        one = np.ones((xlen,n+1), dtype=int)\n",
        "        c1=one[:,[1]]\n",
        "        xT=np.matrix(x)\n",
        "        yT=np.matrix(y)\n",
        "        c2=xT.getT()\n",
        "        c3=np.power(c2,2)\n",
        "        A=np.hstack([c1,c2,c3])\n",
        "        ajuste = prod(prod(inv(prod(trans(A),A)),trans(A)),trans(yT))\n",
        "        print(ajuste)\n",
        "        x=[1.0,-2.0,3.0,4.0]\n",
        "        y=[4.0,5.0,-1.0,1.0]\n",
        "        polyfit2(x,y,2)"
      ],
      "execution_count": 0,
      "outputs": []
    }
  ]
}